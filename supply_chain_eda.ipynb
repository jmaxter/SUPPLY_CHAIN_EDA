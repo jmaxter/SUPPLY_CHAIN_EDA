{
  "nbformat": 4,
  "nbformat_minor": 0,
  "metadata": {
    "colab": {
      "provenance": []
    },
    "kernelspec": {
      "name": "python3",
      "display_name": "Python 3"
    },
    "language_info": {
      "name": "python"
    }
  },
  "cells": [
    {
      "cell_type": "markdown",
      "source": [
        "**SUPPLY CHAIN EXPLORATORY DATA ANALYSIS - PANDAS SERIES**\n",
        "\n",
        "**Jorge McDonald**"
      ],
      "metadata": {
        "id": "zgx47b38fNb-"
      }
    },
    {
      "cell_type": "code",
      "execution_count": null,
      "metadata": {
        "id": "uywhwbrNfLr-"
      },
      "outputs": [],
      "source": [
        "import pandas as pd\n",
        "import numpy as np\n",
        "import matplotlib.pyplot as plt\n",
        "import seaborn as sns"
      ]
    },
    {
      "cell_type": "code",
      "source": [
        "df=pd.read_csv('supply_chain_data.csv')\n",
        "df.head()"
      ],
      "metadata": {
        "id": "djDEuqyfgGXd"
      },
      "execution_count": null,
      "outputs": []
    },
    {
      "cell_type": "code",
      "source": [
        "df.shape\n"
      ],
      "metadata": {
        "id": "wRBqa_c3lPIM"
      },
      "execution_count": null,
      "outputs": []
    },
    {
      "cell_type": "code",
      "source": [
        "df.info()"
      ],
      "metadata": {
        "id": "8Y2umexflYYr"
      },
      "execution_count": null,
      "outputs": []
    },
    {
      "cell_type": "code",
      "source": [
        "df.describe()"
      ],
      "metadata": {
        "id": "7gx8tF6pldW4"
      },
      "execution_count": null,
      "outputs": []
    },
    {
      "cell_type": "code",
      "source": [
        "df.columns"
      ],
      "metadata": {
        "id": "bf2RnQqClkca"
      },
      "execution_count": null,
      "outputs": []
    },
    {
      "cell_type": "code",
      "source": [
        "df.isnull().sum()"
      ],
      "metadata": {
        "id": "kI-GAKX7l17H"
      },
      "execution_count": null,
      "outputs": []
    },
    {
      "cell_type": "code",
      "source": [
        "# histogram products by type\n",
        "plt.figure(figsize=(8,6))\n",
        "sns.countplot(data=df, x='Product type')\n",
        "plt.xlabel('Product Type')\n",
        "plt.ylabel('Count')\n",
        "plt.title('Number of Products by Type')\n",
        "plt.show()"
      ],
      "metadata": {
        "id": "rb0mPnfamD_3"
      },
      "execution_count": null,
      "outputs": []
    },
    {
      "cell_type": "code",
      "source": [
        "# distribution number of products sold - 20 bins\n",
        "plt.figure(figsize=(8,6))\n",
        "sns.histplot(data=df, x='Number of products sold', bins=20)\n",
        "plt.xlabel('Number of Products Sold')\n",
        "plt.ylabel('Count')\n",
        "plt.title('Distribution of Number of Products Sold')\n",
        "plt.show()"
      ],
      "metadata": {
        "id": "WwFj1CXGmT5-"
      },
      "execution_count": null,
      "outputs": []
    },
    {
      "cell_type": "code",
      "source": [
        "# box plot of lead times\n",
        "plt.figure(figsize=(8,6))\n",
        "sns.boxplot(data=df, x='Product type', y='Lead times')\n",
        "plt.xlabel('Product Type')\n",
        "plt.ylabel('Lead Times')\n",
        "plt.title('Lead Times by Product Type')\n",
        "plt.show()"
      ],
      "metadata": {
        "id": "IlZxz4uTnEKR"
      },
      "execution_count": null,
      "outputs": []
    },
    {
      "cell_type": "code",
      "source": [
        "plt.figure(figsize=(8,6))\n",
        "top_suppliers = df.groupby('Supplier name')['Revenue generated'].sum().nlargest(10)\n",
        "sns.barplot(x=top_suppliers.values, y=top_suppliers.index, palette='Blues_d')\n",
        "plt.xlabel('Revenue generated')\n",
        "plt.ylabel('Supplier name')\n",
        "plt.title('Top 10 suppliers by revenue')\n",
        "plt.show()"
      ],
      "metadata": {
        "id": "a_F6myLGoOpw"
      },
      "execution_count": null,
      "outputs": []
    },
    {
      "cell_type": "code",
      "source": [
        "# Histogram of price\n",
        "sns.histplot(data=df,x='Price',kde=True)"
      ],
      "metadata": {
        "id": "KcPtZ61Jo_WA"
      },
      "execution_count": null,
      "outputs": []
    },
    {
      "cell_type": "code",
      "source": [
        "# scatter plot of the price and the number of products sold to see if there is a correlation\n",
        "sns.scatterplot(data=df,x='Price',y='Number of products sold')"
      ],
      "metadata": {
        "id": "u9qE4I70pS8Z"
      },
      "execution_count": null,
      "outputs": []
    },
    {
      "cell_type": "code",
      "source": [
        "# histogram of customers demographics\n",
        "sns.histplot(data=df,x='Customer demographics')"
      ],
      "metadata": {
        "id": "aAIwuG_6pbDo"
      },
      "execution_count": null,
      "outputs": []
    },
    {
      "cell_type": "code",
      "source": [
        "# correlation heatmap\n",
        "sns.heatmap(df.corr(),cmap='coolwarm')"
      ],
      "metadata": {
        "id": "hID31YospqY1"
      },
      "execution_count": null,
      "outputs": []
    }
  ]
}